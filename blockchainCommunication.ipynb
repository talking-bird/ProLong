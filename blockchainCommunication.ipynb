{
 "cells": [
  {
   "cell_type": "code",
   "execution_count": 13,
   "metadata": {},
   "outputs": [],
   "source": [
    "import json\n",
    "from web3 import Web3\n",
    "from pprint import pprint"
   ]
  },
  {
   "cell_type": "markdown",
   "metadata": {},
   "source": [
    "# 1. Setting up"
   ]
  },
  {
   "cell_type": "code",
   "execution_count": 14,
   "metadata": {},
   "outputs": [],
   "source": [
    "# All constant values used in the transactoins\n",
    "\n",
    "chain_id = 31337\n",
    "\n",
    "addr_1 = \"0xf39Fd6e51aad88F6F4ce6aB8827279cffFb92266\"\n",
    "key_1 = \"0xac0974bec39a17e36ba4a6b4d238ff944bacb478cbed5efcae784d7bf4f2ff80\"\n",
    "\n",
    "addr_2 = \"0x70997970C51812dc3A010C7d01b50e0d17dc79C8\"\n",
    "key_2 = \"0x59c6995e998f97a5a0044966f0945389dc9e86dae88c7a8412f4603b6b78690d\"\n",
    "\n",
    "# Extract the ABI and bytecode\n",
    "with open(\"./artifacts/contracts/ProLongToken.sol/ProLongToken.json\") as PLTjson_:\n",
    "    PLTjson = json.load(PLTjson_)\n",
    "with open(\"./artifacts/contracts/DataMarket.sol/DataMarket.json\") as DMjson_:\n",
    "    DMjson = json.load(DMjson_)\n",
    "\n",
    "PLT_abi = PLTjson[\"abi\"]\n",
    "PLT_bytecode = PLTjson[\"bytecode\"]\n",
    "\n",
    "DM_abi = DMjson[\"abi\"]\n",
    "DM_bytecode = DMjson[\"bytecode\"]"
   ]
  },
  {
   "cell_type": "code",
   "execution_count": 15,
   "metadata": {},
   "outputs": [],
   "source": [
    "# Connect to the blockchain and contracts\n",
    "w3 = Web3(Web3.HTTPProvider(\"http://127.0.0.1:8545\"))\n",
    "# working with deployed contract\n",
    "DM_address = \"0xe7f1725E7734CE288F8367e1Bb143E90bb3F0512\"\n",
    "PLT_adress = \"0x5FbDB2315678afecb367f032d93F642f64180aa3\"\n",
    "PLToken = w3.eth.contract(address=PLT_adress, abi=PLT_abi)\n",
    "DataMarket = w3.eth.contract(address=DM_address, abi=DM_abi)"
   ]
  },
  {
   "cell_type": "markdown",
   "metadata": {},
   "source": [
    "# 2. Functions which could be used if needed"
   ]
  },
  {
   "cell_type": "markdown",
   "metadata": {},
   "source": [
    "view functions are called like this:\n",
    "\n",
    "`contract.functions.functionName(functionArgs).call()`"
   ]
  },
  {
   "cell_type": "code",
   "execution_count": 16,
   "metadata": {},
   "outputs": [
    {
     "name": "stdout",
     "output_type": "stream",
     "text": [
      "Initial balance of addr_1: 1000000000000000000000000\n",
      "Initial balance of addr_2: 0\n"
     ]
    }
   ],
   "source": [
    "print(f\"Initial balance of addr_1: {PLToken.functions.balanceOf(addr_1).call()}\")\n",
    "print(f\"Initial balance of addr_2: {PLToken.functions.balanceOf(addr_2).call()}\")"
   ]
  },
  {
   "cell_type": "code",
   "execution_count": 17,
   "metadata": {},
   "outputs": [
    {
     "data": {
      "text/plain": [
       "[<Function allowance(address,address)>,\n",
       " <Function approve(address,uint256)>,\n",
       " <Function balanceOf(address)>,\n",
       " <Function decimals()>,\n",
       " <Function name()>,\n",
       " <Function symbol()>,\n",
       " <Function totalSupply()>,\n",
       " <Function transfer(address,uint256)>,\n",
       " <Function transferFrom(address,address,uint256)>]"
      ]
     },
     "execution_count": 17,
     "metadata": {},
     "output_type": "execute_result"
    }
   ],
   "source": [
    "PLToken.all_functions()"
   ]
  },
  {
   "cell_type": "code",
   "execution_count": 18,
   "metadata": {},
   "outputs": [
    {
     "data": {
      "text/plain": [
       "[<Function buyFile(bytes32)>,\n",
       " <Function buyerFiles(address,uint256)>,\n",
       " <Function deleteFile(bytes32)>,\n",
       " <Function files(bytes32)>,\n",
       " <Function getBuyerFiles(address)>,\n",
       " <Function getFileInfo(bytes32)>,\n",
       " <Function getSellerFiles(address)>,\n",
       " <Function isBuyer(address,bytes32)>,\n",
       " <Function sellerFiles(address,uint256)>,\n",
       " <Function token()>,\n",
       " <Function uploadFile(uint256,bytes32)>,\n",
       " <Function uploadedFiles(uint256)>]"
      ]
     },
     "execution_count": 18,
     "metadata": {},
     "output_type": "execute_result"
    }
   ],
   "source": [
    "DataMarket.all_functions()"
   ]
  },
  {
   "cell_type": "markdown",
   "metadata": {},
   "source": [
    "# 3. Implementations for main transaction functions"
   ]
  },
  {
   "cell_type": "code",
   "execution_count": 19,
   "metadata": {},
   "outputs": [],
   "source": [
    "def build_and_send_transaction(contract, function_name:str, addr_from:str, private_key:str, *args, **kwargs):\n",
    "    \"\"\"template for all transactions (functions that modify blockchain state). This includes transfer, upload, buy functions\n",
    "\n",
    "    Args:\n",
    "        contract (web3._utils.datatypes.Contract): PLToken or DataMarket\n",
    "        function_name (str): function name from blockchain\n",
    "        addr_from (str): address of the sender\n",
    "        private_key (str): private key of the sender. It is used to sign the transaction\n",
    "    \"\"\"\n",
    "    # Get the latest transaction nonce\n",
    "    nonce = w3.eth.get_transaction_count(addr_from)\n",
    "\n",
    "    # Dynamically access the function based on the provided function name\n",
    "    function_to_call = getattr(contract.functions, function_name)\n",
    "\n",
    "    # Build the transaction object\n",
    "    transaction = function_to_call(*args).build_transaction(\n",
    "        {\n",
    "            \"chainId\": chain_id,\n",
    "            \"gasPrice\": w3.eth.gas_price,\n",
    "            \"from\": addr_from,\n",
    "            \"nonce\": nonce,\n",
    "            **kwargs,\n",
    "        }\n",
    "    )\n",
    "\n",
    "    # Sign the transaction\n",
    "    signed_txn = w3.eth.account.sign_transaction(transaction, private_key=private_key)\n",
    "    # print(\"Deploying Contract!\")\n",
    "\n",
    "    # Send the transaction\n",
    "    tx_hash = w3.eth.send_raw_transaction(signed_txn.rawTransaction)\n",
    "\n",
    "    # Wait for the transaction to be mined and get the transaction receipt\n",
    "    # print(\"Waiting for transaction to finish...\")\n",
    "    tx_receipt = w3.eth.wait_for_transaction_receipt(tx_hash)\n",
    "\n",
    "    # print(f\"Done! Transaction executed successfully with hash: {tx_hash}\")"
   ]
  },
  {
   "cell_type": "code",
   "execution_count": 20,
   "metadata": {},
   "outputs": [],
   "source": [
    "def transfer(addr_from: str, addr_to: str, private_key: str, Ntokens: int):\n",
    "    \"\"\"transfer PLTokens from one address to another. It's needed after deploying contract to share tokens from one account to another\n",
    "\n",
    "    Args:\n",
    "        addr_from (str): sender address\n",
    "        addr_to (str): reciever address\n",
    "        private_key (str): sender private key\n",
    "        Ntokens (int): number of tokens to send\n",
    "    \"\"\"\n",
    "    print(\"Initializing transfer...\")\n",
    "    build_and_send_transaction(\n",
    "        PLToken, \"transfer\", addr_from, private_key, addr_to, Ntokens\n",
    "    )\n",
    "    print(\"Done\")\n",
    "    print(\"#\"*20)\n",
    "\n",
    "def upload(addr: str, private_key: str, cost: int, hash_: str) -> None:\n",
    "    \"\"\"uploads file info on blockchain\n",
    "\n",
    "    Args:\n",
    "        addr (str): seller's address\n",
    "        private_key (str): seller's private key\n",
    "        cost (int): file's cost\n",
    "        hash_ (str): file's hash. It is used as a unique identifier. Example: \"0xa589559b0443b454b7f0dd10565a985bec8a9122d242877bcc42dad71bf8588c\"\n",
    "    \"\"\"\n",
    "    print(\"Initializing upload...\")\n",
    "    build_and_send_transaction(DataMarket, \"uploadFile\", addr, private_key, cost, hash_)\n",
    "    print(\"Done\")\n",
    "    print(\"#\"*20)\n",
    "\n",
    "\n",
    "def getFileInfo(hash: str) -> set:\n",
    "    \"\"\"returns a file info\n",
    "\n",
    "    Args:\n",
    "        hash (str): file's hash. It is used as a unique identifier. Example: \"0xa589559b0443b454b7f0dd10565a985bec8a9122d242877bcc42dad71bf8588c\"\n",
    "\n",
    "    Returns:\n",
    "        set: fileInfo\n",
    "    \"\"\"\n",
    "    print(\"Getting file info...\")\n",
    "    info = DataMarket.functions.getFileInfo(hash).call()\n",
    "    fileInfo = {\n",
    "        \"address\": info[0],\n",
    "        \"cost\": info[1],\n",
    "        \"fileId\": info[2],\n",
    "        \"isAvailable\": info[3],\n",
    "    }\n",
    "    print(\"#\"*20)\n",
    "    return fileInfo\n",
    "\n",
    "\n",
    "def buy(hash_:str, addr_from: str, private_key:str)->str:\n",
    "    \"\"\"function for buying a file. It returns buyer's address if the transaction was successful\n",
    "\n",
    "    Args:\n",
    "        hash_ (str): file's hash. It is used as a unique identifier. Example: \"0xa589559b0443b454b7f0dd10565a985bec8a9122d242877bcc42dad71bf8588c\"\n",
    "        addr_from (str): buyer's address\n",
    "        private_key (str): buyer's private key\n",
    "\n",
    "    Returns:\n",
    "        str: buyer's address\n",
    "    \"\"\"\n",
    "\n",
    "    # TODO check if file is available\n",
    "    # TODO check if buyer has enough PLTokens\n",
    "    # TODO check if buyer already has this file\n",
    "    print(\"Buying file...\")\n",
    "    # get file cost and seller ( it should get it from database I suppose )\n",
    "    seller = DataMarket.functions.getFileInfo(hash_).call()[0]\n",
    "    cost = DataMarket.functions.getFileInfo(hash_).call()[1]\n",
    "    # approve the transfer of money from buyers account\n",
    "    print(\"Approving the transaction...\")\n",
    "    build_and_send_transaction(PLToken, \"approve\", addr_from, private_key, DM_address, cost)\n",
    "    # initiate transfer of tokens\n",
    "    print(\"Initiating the transaction...\")\n",
    "    build_and_send_transaction(DataMarket, \"buyFile\", addr_from, private_key, hash_)\n",
    "    # listen to the event\n",
    "    print(\"Checking the transaction...\")\n",
    "    log = DataMarket.events.FileSold.get_logs(fromBlock=w3.eth.block_number)[0]\n",
    "    print(\"Log of FileSold event: \\n\", log)\n",
    "    assert log.args.seller == seller, \"Seller address does not match\"\n",
    "    assert log.args.buyer == addr_2, \"Buyer address does not match\"\n",
    "    # hash of the file in system transforms to bytes interpetation,\n",
    "    # that's why we need to convert it to hex\n",
    "    assert \"0x\"+log.args.hash.hex() == hash_, \"File's hash does not match\"\n",
    "    print(\"Done\")\n",
    "    print(\"#\"*20)\n",
    "    return addr_2\n",
    "\n",
    "\n",
    "def deleteFile(hash_:str, addr_from: str, private_key:str):\n",
    "    \"\"\"It can be used for deleting a file after uploading it\n",
    "\n",
    "    Args:\n",
    "        hash_ (str): files hash\n",
    "        addr_from (str): seller address\n",
    "        private_key (str): seller private key\n",
    "    \"\"\"\n",
    "    # TODO it's not implemented completely inside contract.\n",
    "    print(\"Deleting file...\")\n",
    "    build_and_send_transaction(DataMarket, \"deleteFile\", addr_from, private_key, hash_)\n",
    "    print(\"Done\")\n",
    "    print(\"#\"*20)"
   ]
  },
  {
   "cell_type": "markdown",
   "metadata": {},
   "source": [
    "# 4. Actually using functions ( example )"
   ]
  },
  {
   "cell_type": "code",
   "execution_count": 21,
   "metadata": {},
   "outputs": [],
   "source": [
    "# random hash for an example\n",
    "\n",
    "# import codecs\n",
    "# from randomHash import getRandomHash\n",
    "# hash_ = getRandomHash()\n",
    "# print(hash_)\n",
    "\n",
    "hash_ = \"0xa589559b0443b454b7f0dd10565a985bec8a9122d242877bcc42dad71bf8588c\""
   ]
  },
  {
   "cell_type": "code",
   "execution_count": 22,
   "metadata": {},
   "outputs": [
    {
     "name": "stdout",
     "output_type": "stream",
     "text": [
      "Initializing transfer...\n",
      "Done\n",
      "####################\n",
      "Initializing upload...\n",
      "Done\n",
      "####################\n",
      "Getting file info...\n",
      "####################\n",
      "{'address': '0xf39Fd6e51aad88F6F4ce6aB8827279cffFb92266',\n",
      " 'cost': 100,\n",
      " 'fileId': 0,\n",
      " 'isAvailable': True}\n",
      "Buying file...\n",
      "Approving the transaction...\n",
      "Initiating the transaction...\n",
      "Checking the transaction...\n",
      "Log of FileSold event: \n",
      " AttributeDict({'args': AttributeDict({'seller': '0xf39Fd6e51aad88F6F4ce6aB8827279cffFb92266', 'buyer': '0x70997970C51812dc3A010C7d01b50e0d17dc79C8', 'hash': b'\\xa5\\x89U\\x9b\\x04C\\xb4T\\xb7\\xf0\\xdd\\x10VZ\\x98[\\xec\\x8a\\x91\"\\xd2B\\x87{\\xccB\\xda\\xd7\\x1b\\xf8X\\x8c'}), 'event': 'FileSold', 'logIndex': 1, 'transactionIndex': 0, 'transactionHash': HexBytes('0xd2a250fe9aa10a0c799696beb68e26cd8ca1a0b6d61722af8cf386f5f559847f'), 'address': '0xe7f1725E7734CE288F8367e1Bb143E90bb3F0512', 'blockHash': HexBytes('0x9e51dcb6e43fde0924aa0e9467e14a8d9c1b6d71c94ce4e2a070124170b1dab9'), 'blockNumber': 6})\n",
      "Done\n",
      "####################\n",
      "Buyer address: 0x70997970C51812dc3A010C7d01b50e0d17dc79C8\n"
     ]
    }
   ],
   "source": [
    "#1. Transfer some tokens to second address\n",
    "transfer(addr_1, addr_2, key_1, 1000)\n",
    "#2. Upload file from first address\n",
    "upload(addr_1, key_1, 100, hash_)\n",
    "#3. Get file info\n",
    "pprint(getFileInfo(hash_))\n",
    "#4. Buy file from second address\n",
    "buyers_address = buy(hash_, addr_2, key_2)\n",
    "print(f\"Buyer address: {buyers_address}\")"
   ]
  },
  {
   "cell_type": "code",
   "execution_count": 23,
   "metadata": {},
   "outputs": [
    {
     "name": "stdout",
     "output_type": "stream",
     "text": [
      "True\n"
     ]
    }
   ],
   "source": [
    "print(addr_2 == buyers_address)"
   ]
  },
  {
   "cell_type": "code",
   "execution_count": null,
   "metadata": {},
   "outputs": [],
   "source": [
    "print(\"Sellers files:\", DataMarket.functions.getSellerFiles(addr_1).call())\n",
    "deleteFile(hash_, addr_1, key_1)\n",
    "print(\"Sellers files after deleting:\", DataMarket.functions.getSellerFiles(addr_1).call())"
   ]
  }
 ],
 "metadata": {
  "kernelspec": {
   "display_name": "blockchain",
   "language": "python",
   "name": "python3"
  },
  "language_info": {
   "codemirror_mode": {
    "name": "ipython",
    "version": 3
   },
   "file_extension": ".py",
   "mimetype": "text/x-python",
   "name": "python",
   "nbconvert_exporter": "python",
   "pygments_lexer": "ipython3",
   "version": "3.12.2"
  }
 },
 "nbformat": 4,
 "nbformat_minor": 2
}
